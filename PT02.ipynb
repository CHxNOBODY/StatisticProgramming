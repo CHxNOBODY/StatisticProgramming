{
  "cells": [
    {
      "cell_type": "markdown",
      "id": "d5a84c25-5dd2-4e1c-9610-0f32b929ab11",
      "metadata": {
        "id": "d5a84c25-5dd2-4e1c-9610-0f32b929ab11"
      },
      "source": [
        "# แบบฝึกหัด 2"
      ]
    },
    {
      "cell_type": "markdown",
      "id": "1de1213a-1891-4a0f-a326-f4b41157e2a2",
      "metadata": {
        "id": "1de1213a-1891-4a0f-a326-f4b41157e2a2"
      },
      "source": [
        "---"
      ]
    },
    {
      "cell_type": "markdown",
      "id": "0b2de3e5-4ca7-4040-b266-c6d233ec55b9",
      "metadata": {
        "id": "0b2de3e5-4ca7-4040-b266-c6d233ec55b9"
      },
      "source": [
        "จากข้อมูล titanic.csv ให้ทำการวิเคราะห์ข้อมูลเบื้องต้นเกี่ยวกับคอลัมน์ cabin  \n",
        "โดยแผนภาพด้านล่างนี้เป็นตำแหน่งของ cabin ตามตัวอักษรตัวแรกของรหัส cabin ที่บันทึกในชุดข้อมูล"
      ]
    },
    {
      "cell_type": "markdown",
      "id": "37cf63dc-319c-4178-9d4e-7b68cb920496",
      "metadata": {
        "id": "37cf63dc-319c-4178-9d4e-7b68cb920496"
      },
      "source": [
        "![titanic-cabin](https://upload.wikimedia.org/wikipedia/commons/thumb/0/0d/Olympic_%26_Titanic_cutaway_diagram.png/800px-Olympic_%26_Titanic_cutaway_diagram.png)"
      ]
    },
    {
      "cell_type": "markdown",
      "id": "2c29c391-d34e-4e5b-832b-8309cc048e38",
      "metadata": {
        "id": "2c29c391-d34e-4e5b-832b-8309cc048e38"
      },
      "source": [
        "ให้นิสิตสร้างคอลัมน์เพิ่ม โดยคอลัมน์ที่เพิ่มมานี้ จะเก็บข้อมูลของตัวอักษรตัวแรกที่ปรากฏในคอลัมน์ Cabin เช่น  \n",
        "- หากในคอลัมน์ Cabin เป็นค่า \"C123\" ในคอลัมน์ที่สร้างจะบันทึก \"C\"  \n",
        "- หากในคอลัมน์ Cabin เป็นค่า \"C23 C25 C27\" ในคอลัมน์ที่สร้างจะบันทึก \"C\"\n",
        "- หากในคอลัมน์ Cabin เป็นค่า \"B58 B60 C2\" ในคอลัมน์ที่สร้างจะบันทึก \"B\"\n",
        "- หากในคอลัมน์ Cabin เป็นค่า \"F2\" ในคอลัมน์ที่สร้างจะบันทึก \"F\"\n",
        "- หากในคอลัมน์ Cabin เป็นค่า NaN ในคอลัมน์ที่สร้างจะบันทึก NaN"
      ]
    },
    {
      "cell_type": "markdown",
      "id": "aae120b9-b64f-4dad-ae93-003c5a5d0ada",
      "metadata": {
        "id": "aae120b9-b64f-4dad-ae93-003c5a5d0ada"
      },
      "source": [
        "จากนั้นให้นิสิตเขียนโค้ดเพื่อตอบคำถามในแต่ละข้อ"
      ]
    },
    {
      "cell_type": "code",
      "execution_count": null,
      "id": "8bca888a-443e-49fa-8e1e-3be829633c05",
      "metadata": {
        "id": "8bca888a-443e-49fa-8e1e-3be829633c05"
      },
      "outputs": [],
      "source": [
        "import numpy as np\n",
        "import pandas as pd"
      ]
    },
    {
      "cell_type": "code",
      "execution_count": null,
      "id": "3a2c0f7f-f675-427e-8dab-5ce08d8fbf78",
      "metadata": {
        "colab": {
          "base_uri": "https://localhost:8080/",
          "height": 327
        },
        "id": "3a2c0f7f-f675-427e-8dab-5ce08d8fbf78",
        "outputId": "6d6403c5-e11c-4d85-b45e-b6034f6854b5"
      },
      "outputs": [
        {
          "data": {
            "text/html": [
              "<div>\n",
              "<style scoped>\n",
              "    .dataframe tbody tr th:only-of-type {\n",
              "        vertical-align: middle;\n",
              "    }\n",
              "\n",
              "    .dataframe tbody tr th {\n",
              "        vertical-align: top;\n",
              "    }\n",
              "\n",
              "    .dataframe thead th {\n",
              "        text-align: right;\n",
              "    }\n",
              "</style>\n",
              "<table border=\"1\" class=\"dataframe\">\n",
              "  <thead>\n",
              "    <tr style=\"text-align: right;\">\n",
              "      <th></th>\n",
              "      <th>PassengerId</th>\n",
              "      <th>Survived</th>\n",
              "      <th>Pclass</th>\n",
              "      <th>Name</th>\n",
              "      <th>Sex</th>\n",
              "      <th>Age</th>\n",
              "      <th>SibSp</th>\n",
              "      <th>Parch</th>\n",
              "      <th>Ticket</th>\n",
              "      <th>Fare</th>\n",
              "      <th>Cabin</th>\n",
              "      <th>Embarked</th>\n",
              "    </tr>\n",
              "  </thead>\n",
              "  <tbody>\n",
              "    <tr>\n",
              "      <th>0</th>\n",
              "      <td>1</td>\n",
              "      <td>0</td>\n",
              "      <td>3</td>\n",
              "      <td>Braund, Mr. Owen Harris</td>\n",
              "      <td>male</td>\n",
              "      <td>22.0</td>\n",
              "      <td>1</td>\n",
              "      <td>0</td>\n",
              "      <td>A/5 21171</td>\n",
              "      <td>7.2500</td>\n",
              "      <td>NaN</td>\n",
              "      <td>S</td>\n",
              "    </tr>\n",
              "    <tr>\n",
              "      <th>1</th>\n",
              "      <td>2</td>\n",
              "      <td>1</td>\n",
              "      <td>1</td>\n",
              "      <td>Cumings, Mrs. John Bradley (Florence Briggs Th...</td>\n",
              "      <td>female</td>\n",
              "      <td>38.0</td>\n",
              "      <td>1</td>\n",
              "      <td>0</td>\n",
              "      <td>PC 17599</td>\n",
              "      <td>71.2833</td>\n",
              "      <td>C85</td>\n",
              "      <td>C</td>\n",
              "    </tr>\n",
              "    <tr>\n",
              "      <th>2</th>\n",
              "      <td>3</td>\n",
              "      <td>1</td>\n",
              "      <td>3</td>\n",
              "      <td>Heikkinen, Miss. Laina</td>\n",
              "      <td>female</td>\n",
              "      <td>26.0</td>\n",
              "      <td>0</td>\n",
              "      <td>0</td>\n",
              "      <td>STON/O2. 3101282</td>\n",
              "      <td>7.9250</td>\n",
              "      <td>NaN</td>\n",
              "      <td>S</td>\n",
              "    </tr>\n",
              "    <tr>\n",
              "      <th>3</th>\n",
              "      <td>4</td>\n",
              "      <td>1</td>\n",
              "      <td>1</td>\n",
              "      <td>Futrelle, Mrs. Jacques Heath (Lily May Peel)</td>\n",
              "      <td>female</td>\n",
              "      <td>35.0</td>\n",
              "      <td>1</td>\n",
              "      <td>0</td>\n",
              "      <td>113803</td>\n",
              "      <td>53.1000</td>\n",
              "      <td>C123</td>\n",
              "      <td>S</td>\n",
              "    </tr>\n",
              "    <tr>\n",
              "      <th>4</th>\n",
              "      <td>5</td>\n",
              "      <td>0</td>\n",
              "      <td>3</td>\n",
              "      <td>Allen, Mr. William Henry</td>\n",
              "      <td>male</td>\n",
              "      <td>35.0</td>\n",
              "      <td>0</td>\n",
              "      <td>0</td>\n",
              "      <td>373450</td>\n",
              "      <td>8.0500</td>\n",
              "      <td>NaN</td>\n",
              "      <td>S</td>\n",
              "    </tr>\n",
              "  </tbody>\n",
              "</table>\n",
              "</div>"
            ],
            "text/plain": [
              "   PassengerId  Survived  Pclass  \\\n",
              "0            1         0       3   \n",
              "1            2         1       1   \n",
              "2            3         1       3   \n",
              "3            4         1       1   \n",
              "4            5         0       3   \n",
              "\n",
              "                                                Name     Sex   Age  SibSp  \\\n",
              "0                            Braund, Mr. Owen Harris    male  22.0      1   \n",
              "1  Cumings, Mrs. John Bradley (Florence Briggs Th...  female  38.0      1   \n",
              "2                             Heikkinen, Miss. Laina  female  26.0      0   \n",
              "3       Futrelle, Mrs. Jacques Heath (Lily May Peel)  female  35.0      1   \n",
              "4                           Allen, Mr. William Henry    male  35.0      0   \n",
              "\n",
              "   Parch            Ticket     Fare Cabin Embarked  \n",
              "0      0         A/5 21171   7.2500   NaN        S  \n",
              "1      0          PC 17599  71.2833   C85        C  \n",
              "2      0  STON/O2. 3101282   7.9250   NaN        S  \n",
              "3      0            113803  53.1000  C123        S  \n",
              "4      0            373450   8.0500   NaN        S  "
            ]
          },
          "execution_count": 3,
          "metadata": {},
          "output_type": "execute_result"
        }
      ],
      "source": [
        "df = pd.read_csv(\"https://raw.githubusercontent.com/ThammakornS/ProgStat/main/dataset/titanic.csv\")\n",
        "df.head()"
      ]
    },
    {
      "cell_type": "markdown",
      "id": "a22810d5-b0e3-47d8-95b9-c45da2cc085e",
      "metadata": {
        "id": "a22810d5-b0e3-47d8-95b9-c45da2cc085e"
      },
      "source": [
        "นิสิตแสดงวิธีสร้างคอลัมน์"
      ]
    },
    {
      "cell_type": "code",
      "execution_count": null,
      "id": "1020deae-43bd-46f1-aa35-3f979ecfbf91",
      "metadata": {
        "id": "1020deae-43bd-46f1-aa35-3f979ecfbf91",
        "outputId": "7cdcf17e-d581-4637-fac8-bc2607313cc4"
      },
      "outputs": [
        {
          "data": {
            "text/html": [
              "<div>\n",
              "<style scoped>\n",
              "    .dataframe tbody tr th:only-of-type {\n",
              "        vertical-align: middle;\n",
              "    }\n",
              "\n",
              "    .dataframe tbody tr th {\n",
              "        vertical-align: top;\n",
              "    }\n",
              "\n",
              "    .dataframe thead th {\n",
              "        text-align: right;\n",
              "    }\n",
              "</style>\n",
              "<table border=\"1\" class=\"dataframe\">\n",
              "  <thead>\n",
              "    <tr style=\"text-align: right;\">\n",
              "      <th></th>\n",
              "      <th>PassengerId</th>\n",
              "      <th>Survived</th>\n",
              "      <th>Pclass</th>\n",
              "      <th>Name</th>\n",
              "      <th>Sex</th>\n",
              "      <th>Age</th>\n",
              "      <th>SibSp</th>\n",
              "      <th>Parch</th>\n",
              "      <th>Ticket</th>\n",
              "      <th>Fare</th>\n",
              "      <th>Cabin</th>\n",
              "      <th>Embarked</th>\n",
              "      <th>cabin_letter</th>\n",
              "    </tr>\n",
              "  </thead>\n",
              "  <tbody>\n",
              "    <tr>\n",
              "      <th>0</th>\n",
              "      <td>1</td>\n",
              "      <td>0</td>\n",
              "      <td>3</td>\n",
              "      <td>Braund, Mr. Owen Harris</td>\n",
              "      <td>male</td>\n",
              "      <td>22.0</td>\n",
              "      <td>1</td>\n",
              "      <td>0</td>\n",
              "      <td>A/5 21171</td>\n",
              "      <td>7.2500</td>\n",
              "      <td>NaN</td>\n",
              "      <td>S</td>\n",
              "      <td>NaN</td>\n",
              "    </tr>\n",
              "    <tr>\n",
              "      <th>1</th>\n",
              "      <td>2</td>\n",
              "      <td>1</td>\n",
              "      <td>1</td>\n",
              "      <td>Cumings, Mrs. John Bradley (Florence Briggs Th...</td>\n",
              "      <td>female</td>\n",
              "      <td>38.0</td>\n",
              "      <td>1</td>\n",
              "      <td>0</td>\n",
              "      <td>PC 17599</td>\n",
              "      <td>71.2833</td>\n",
              "      <td>C85</td>\n",
              "      <td>C</td>\n",
              "      <td>C</td>\n",
              "    </tr>\n",
              "    <tr>\n",
              "      <th>2</th>\n",
              "      <td>3</td>\n",
              "      <td>1</td>\n",
              "      <td>3</td>\n",
              "      <td>Heikkinen, Miss. Laina</td>\n",
              "      <td>female</td>\n",
              "      <td>26.0</td>\n",
              "      <td>0</td>\n",
              "      <td>0</td>\n",
              "      <td>STON/O2. 3101282</td>\n",
              "      <td>7.9250</td>\n",
              "      <td>NaN</td>\n",
              "      <td>S</td>\n",
              "      <td>NaN</td>\n",
              "    </tr>\n",
              "    <tr>\n",
              "      <th>3</th>\n",
              "      <td>4</td>\n",
              "      <td>1</td>\n",
              "      <td>1</td>\n",
              "      <td>Futrelle, Mrs. Jacques Heath (Lily May Peel)</td>\n",
              "      <td>female</td>\n",
              "      <td>35.0</td>\n",
              "      <td>1</td>\n",
              "      <td>0</td>\n",
              "      <td>113803</td>\n",
              "      <td>53.1000</td>\n",
              "      <td>C123</td>\n",
              "      <td>S</td>\n",
              "      <td>C</td>\n",
              "    </tr>\n",
              "    <tr>\n",
              "      <th>4</th>\n",
              "      <td>5</td>\n",
              "      <td>0</td>\n",
              "      <td>3</td>\n",
              "      <td>Allen, Mr. William Henry</td>\n",
              "      <td>male</td>\n",
              "      <td>35.0</td>\n",
              "      <td>0</td>\n",
              "      <td>0</td>\n",
              "      <td>373450</td>\n",
              "      <td>8.0500</td>\n",
              "      <td>NaN</td>\n",
              "      <td>S</td>\n",
              "      <td>NaN</td>\n",
              "    </tr>\n",
              "    <tr>\n",
              "      <th>...</th>\n",
              "      <td>...</td>\n",
              "      <td>...</td>\n",
              "      <td>...</td>\n",
              "      <td>...</td>\n",
              "      <td>...</td>\n",
              "      <td>...</td>\n",
              "      <td>...</td>\n",
              "      <td>...</td>\n",
              "      <td>...</td>\n",
              "      <td>...</td>\n",
              "      <td>...</td>\n",
              "      <td>...</td>\n",
              "      <td>...</td>\n",
              "    </tr>\n",
              "    <tr>\n",
              "      <th>886</th>\n",
              "      <td>887</td>\n",
              "      <td>0</td>\n",
              "      <td>2</td>\n",
              "      <td>Montvila, Rev. Juozas</td>\n",
              "      <td>male</td>\n",
              "      <td>27.0</td>\n",
              "      <td>0</td>\n",
              "      <td>0</td>\n",
              "      <td>211536</td>\n",
              "      <td>13.0000</td>\n",
              "      <td>NaN</td>\n",
              "      <td>S</td>\n",
              "      <td>NaN</td>\n",
              "    </tr>\n",
              "    <tr>\n",
              "      <th>887</th>\n",
              "      <td>888</td>\n",
              "      <td>1</td>\n",
              "      <td>1</td>\n",
              "      <td>Graham, Miss. Margaret Edith</td>\n",
              "      <td>female</td>\n",
              "      <td>19.0</td>\n",
              "      <td>0</td>\n",
              "      <td>0</td>\n",
              "      <td>112053</td>\n",
              "      <td>30.0000</td>\n",
              "      <td>B42</td>\n",
              "      <td>S</td>\n",
              "      <td>B</td>\n",
              "    </tr>\n",
              "    <tr>\n",
              "      <th>888</th>\n",
              "      <td>889</td>\n",
              "      <td>0</td>\n",
              "      <td>3</td>\n",
              "      <td>Johnston, Miss. Catherine Helen \"Carrie\"</td>\n",
              "      <td>female</td>\n",
              "      <td>NaN</td>\n",
              "      <td>1</td>\n",
              "      <td>2</td>\n",
              "      <td>W./C. 6607</td>\n",
              "      <td>23.4500</td>\n",
              "      <td>NaN</td>\n",
              "      <td>S</td>\n",
              "      <td>NaN</td>\n",
              "    </tr>\n",
              "    <tr>\n",
              "      <th>889</th>\n",
              "      <td>890</td>\n",
              "      <td>1</td>\n",
              "      <td>1</td>\n",
              "      <td>Behr, Mr. Karl Howell</td>\n",
              "      <td>male</td>\n",
              "      <td>26.0</td>\n",
              "      <td>0</td>\n",
              "      <td>0</td>\n",
              "      <td>111369</td>\n",
              "      <td>30.0000</td>\n",
              "      <td>C148</td>\n",
              "      <td>C</td>\n",
              "      <td>C</td>\n",
              "    </tr>\n",
              "    <tr>\n",
              "      <th>890</th>\n",
              "      <td>891</td>\n",
              "      <td>0</td>\n",
              "      <td>3</td>\n",
              "      <td>Dooley, Mr. Patrick</td>\n",
              "      <td>male</td>\n",
              "      <td>32.0</td>\n",
              "      <td>0</td>\n",
              "      <td>0</td>\n",
              "      <td>370376</td>\n",
              "      <td>7.7500</td>\n",
              "      <td>NaN</td>\n",
              "      <td>Q</td>\n",
              "      <td>NaN</td>\n",
              "    </tr>\n",
              "  </tbody>\n",
              "</table>\n",
              "<p>891 rows × 13 columns</p>\n",
              "</div>"
            ],
            "text/plain": [
              "     PassengerId  Survived  Pclass  \\\n",
              "0              1         0       3   \n",
              "1              2         1       1   \n",
              "2              3         1       3   \n",
              "3              4         1       1   \n",
              "4              5         0       3   \n",
              "..           ...       ...     ...   \n",
              "886          887         0       2   \n",
              "887          888         1       1   \n",
              "888          889         0       3   \n",
              "889          890         1       1   \n",
              "890          891         0       3   \n",
              "\n",
              "                                                  Name     Sex   Age  SibSp  \\\n",
              "0                              Braund, Mr. Owen Harris    male  22.0      1   \n",
              "1    Cumings, Mrs. John Bradley (Florence Briggs Th...  female  38.0      1   \n",
              "2                               Heikkinen, Miss. Laina  female  26.0      0   \n",
              "3         Futrelle, Mrs. Jacques Heath (Lily May Peel)  female  35.0      1   \n",
              "4                             Allen, Mr. William Henry    male  35.0      0   \n",
              "..                                                 ...     ...   ...    ...   \n",
              "886                              Montvila, Rev. Juozas    male  27.0      0   \n",
              "887                       Graham, Miss. Margaret Edith  female  19.0      0   \n",
              "888           Johnston, Miss. Catherine Helen \"Carrie\"  female   NaN      1   \n",
              "889                              Behr, Mr. Karl Howell    male  26.0      0   \n",
              "890                                Dooley, Mr. Patrick    male  32.0      0   \n",
              "\n",
              "     Parch            Ticket     Fare Cabin Embarked cabin_letter  \n",
              "0        0         A/5 21171   7.2500   NaN        S          NaN  \n",
              "1        0          PC 17599  71.2833   C85        C            C  \n",
              "2        0  STON/O2. 3101282   7.9250   NaN        S          NaN  \n",
              "3        0            113803  53.1000  C123        S            C  \n",
              "4        0            373450   8.0500   NaN        S          NaN  \n",
              "..     ...               ...      ...   ...      ...          ...  \n",
              "886      0            211536  13.0000   NaN        S          NaN  \n",
              "887      0            112053  30.0000   B42        S            B  \n",
              "888      2        W./C. 6607  23.4500   NaN        S          NaN  \n",
              "889      0            111369  30.0000  C148        C            C  \n",
              "890      0            370376   7.7500   NaN        Q          NaN  \n",
              "\n",
              "[891 rows x 13 columns]"
            ]
          },
          "execution_count": 4,
          "metadata": {},
          "output_type": "execute_result"
        }
      ],
      "source": [
        "#your code\n",
        "df['cabin_letter'] = df.Cabin.str.get(0)\n",
        "df"
      ]
    },
    {
      "cell_type": "markdown",
      "id": "46afd374-6101-4afe-9bf3-c7b0c3d97c61",
      "metadata": {
        "id": "46afd374-6101-4afe-9bf3-c7b0c3d97c61"
      },
      "source": [
        "1. ในแต่ละตัวอักษร Cabin มีจำนวนผู้โดยสารกี่คน และมีจำนวน NaN เท่าไหร่"
      ]
    },
    {
      "cell_type": "code",
      "execution_count": null,
      "id": "0484cb7d-29b4-44f1-90f5-16fef7266314",
      "metadata": {
        "id": "0484cb7d-29b4-44f1-90f5-16fef7266314",
        "tags": [],
        "outputId": "1325f8d7-27b4-4118-ee50-589544695feb"
      },
      "outputs": [
        {
          "name": "stdout",
          "output_type": "stream",
          "text": [
            "cabin_letter\n",
            "NaN    687\n",
            "C       59\n",
            "B       47\n",
            "D       33\n",
            "E       32\n",
            "A       15\n",
            "F       13\n",
            "G        4\n",
            "T        1\n",
            "Name: count, dtype: int64\n"
          ]
        }
      ],
      "source": [
        "#your code\n",
        "cabin_counts = df['cabin_letter'].value_counts(dropna=False)\n",
        "print(cabin_counts)"
      ]
    },
    {
      "cell_type": "markdown",
      "id": "57a7dce3-b43f-42ac-ba6d-8219ff953804",
      "metadata": {
        "id": "57a7dce3-b43f-42ac-ba6d-8219ff953804"
      },
      "source": [
        "2. ในแต่ละตัวอักษร Cabin มีจำนวนผู้โดยสารที่รอดและเสียชีวิตอย่างละเท่าไหร่ cabin ใดมีจำนวนผู้เสียชีวิตมากที่สุด"
      ]
    },
    {
      "cell_type": "code",
      "execution_count": null,
      "id": "716596c4-e25a-4ff4-be66-f0c7d17a315b",
      "metadata": {
        "id": "716596c4-e25a-4ff4-be66-f0c7d17a315b",
        "outputId": "74e8be83-a200-464a-b496-88bbcbcfc017"
      },
      "outputs": [
        {
          "name": "stdout",
          "output_type": "stream",
          "text": [
            "Survived       0   1\n",
            "cabin_letter        \n",
            "A              8   7\n",
            "B             12  35\n",
            "C             24  35\n",
            "D              8  25\n",
            "E              8  24\n",
            "F              5   8\n",
            "G              2   2\n",
            "T              1   0\n",
            "Cabin ที่มีผู้เสียชีวิตมากที่สุดคือ: C\n"
          ]
        }
      ],
      "source": [
        "#your code\n",
        "cabin_survival = df.groupby(['cabin_letter', 'Survived']).size().unstack(fill_value=0)\n",
        "cabin_with_most_deaths = cabin_survival[0].idxmax()\n",
        "print(cabin_survival)\n",
        "print(\"Cabin ที่มีผู้เสียชีวิตมากที่สุดคือ:\", cabin_with_most_deaths)"
      ]
    },
    {
      "cell_type": "markdown",
      "id": "ffe01048-7001-44ed-a318-f46c79e49fb8",
      "metadata": {
        "id": "ffe01048-7001-44ed-a318-f46c79e49fb8"
      },
      "source": [
        "3. cabin ใดมีค่า สัดส่วน จำนวนผู้รอดชีวิตหารด้วยจำนวนผู้เสียชีวิต สูงสุด"
      ]
    },
    {
      "cell_type": "code",
      "execution_count": null,
      "id": "f38c0470-9acf-491d-8233-32acc258714d",
      "metadata": {
        "id": "f38c0470-9acf-491d-8233-32acc258714d",
        "outputId": "da0617a8-38ae-437e-eb3d-4be2ae71ccd6"
      },
      "outputs": [
        {
          "name": "stdout",
          "output_type": "stream",
          "text": [
            "D\n"
          ]
        }
      ],
      "source": [
        "#your code\n",
        "cabin_survival_ratio = (cabin_survival[1] / cabin_survival[0].replace(0, np.nan)).idxmax()\n",
        "print(cabin_survival_ratio)"
      ]
    },
    {
      "cell_type": "markdown",
      "id": "e2069dfd-233b-4979-83dd-b2408928d1d1",
      "metadata": {
        "id": "e2069dfd-233b-4979-83dd-b2408928d1d1"
      },
      "source": [
        "4. cabin ใดมีค่าเฉลี่ยราคาตั๋ว (Fare) สูงสุด"
      ]
    },
    {
      "cell_type": "code",
      "execution_count": null,
      "id": "ad74e21d-2d51-467d-8e90-c41d61d76c52",
      "metadata": {
        "id": "ad74e21d-2d51-467d-8e90-c41d61d76c52",
        "outputId": "4453b573-bab9-42e7-a534-5937955ab5b4"
      },
      "outputs": [
        {
          "name": "stdout",
          "output_type": "stream",
          "text": [
            "Cabin ที่มีค่าเฉลี่ยราคาตั๋วสูงสุดคือ: B\n"
          ]
        }
      ],
      "source": [
        "#your code\n",
        "cabin_fare_mean = df.groupby('cabin_letter')['Fare'].mean().idxmax()\n",
        "print(\"Cabin ที่มีค่าเฉลี่ยราคาตั๋วสูงสุดคือ:\", cabin_fare_mean)"
      ]
    },
    {
      "cell_type": "markdown",
      "id": "629756d5-c13f-45e9-96d4-a26457fc61b7",
      "metadata": {
        "id": "629756d5-c13f-45e9-96d4-a26457fc61b7"
      },
      "source": [
        "5. จงแสดงค่าเฉลี่ยราคาตั๋ว (Fare) ของผู้รอดชีวิต และผู้เสียชีวิต ในแต่ละ cabin หากเปรียบเทียบราคาเฉลี่ยของผู้ที่รอดและเสียชีวิตจะพบว่า"
      ]
    },
    {
      "cell_type": "code",
      "execution_count": null,
      "id": "cbd636f4-6aa5-4766-8bd1-5eae44209c86",
      "metadata": {
        "id": "cbd636f4-6aa5-4766-8bd1-5eae44209c86",
        "outputId": "20684a9c-ef82-4105-8314-67434af448c9"
      },
      "outputs": [
        {
          "name": "stdout",
          "output_type": "stream",
          "text": [
            "Survived              0           1\n",
            "cabin_letter                       \n",
            "A             35.496350   44.341071\n",
            "B             57.137500  132.832026\n",
            "C             99.972396  100.274046\n",
            "D             53.770825   58.356176\n",
            "E             43.715625   46.797050\n",
            "F             11.340000   23.294787\n",
            "G             10.462500   16.700000\n",
            "T             35.500000    0.000000\n"
          ]
        }
      ],
      "source": [
        "#your code\n",
        "cabin_fare_by_survival = df.groupby(['cabin_letter', 'Survived'])['Fare'].mean().unstack(fill_value=0)\n",
        "print(cabin_fare_by_survival)"
      ]
    },
    {
      "cell_type": "markdown",
      "id": "d88f552b-3d5d-45ed-b821-e27655e25115",
      "metadata": {
        "id": "d88f552b-3d5d-45ed-b821-e27655e25115"
      },
      "source": [
        "6. ในแต่ละอักษร cabin มีจำนวนผู้โดยสารแยกตาม Pclass อย่างละกี่คน"
      ]
    },
    {
      "cell_type": "code",
      "execution_count": null,
      "id": "be145608-4da3-4dac-8ca1-35ef78518366",
      "metadata": {
        "id": "be145608-4da3-4dac-8ca1-35ef78518366",
        "outputId": "8240b687-13a6-47c3-d13c-128913bbb2e3"
      },
      "outputs": [
        {
          "name": "stdout",
          "output_type": "stream",
          "text": [
            "Pclass         1  2  3\n",
            "cabin_letter          \n",
            "A             15  0  0\n",
            "B             47  0  0\n",
            "C             59  0  0\n",
            "D             29  4  0\n",
            "E             25  4  3\n",
            "F              0  8  5\n",
            "G              0  0  4\n",
            "T              1  0  0\n"
          ]
        }
      ],
      "source": [
        "#your code\n",
        "cabin_pclass_counts = df.groupby(['cabin_letter', 'Pclass']).size().unstack(fill_value=0)\n",
        "print(cabin_pclass_counts)"
      ]
    }
  ],
  "metadata": {
    "colab": {
      "provenance": []
    },
    "kernelspec": {
      "display_name": "Python 3",
      "language": "python",
      "name": "python3"
    },
    "language_info": {
      "codemirror_mode": {
        "name": "ipython",
        "version": 3
      },
      "file_extension": ".py",
      "mimetype": "text/x-python",
      "name": "python",
      "nbconvert_exporter": "python",
      "pygments_lexer": "ipython3",
      "version": "3.11.9"
    }
  },
  "nbformat": 4,
  "nbformat_minor": 5
}