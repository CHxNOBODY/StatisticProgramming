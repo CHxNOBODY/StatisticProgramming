{
  "nbformat": 4,
  "nbformat_minor": 0,
  "metadata": {
    "colab": {
      "provenance": []
    },
    "kernelspec": {
      "name": "python3",
      "display_name": "Python 3"
    },
    "language_info": {
      "name": "python"
    }
  },
  "cells": [
    {
      "cell_type": "markdown",
      "source": [
        "# แบบฝึกหัด 4"
      ],
      "metadata": {
        "id": "U3ArbMi8JHGD"
      }
    },
    {
      "cell_type": "markdown",
      "source": [
        "---"
      ],
      "metadata": {
        "id": "t9RQYuu-JUwP"
      }
    },
    {
      "cell_type": "code",
      "source": [
        "import numpy as np\n",
        "import pandas as pd\n",
        "from scipy import stats\n",
        "import statistics\n",
        "from math import perm, comb"
      ],
      "metadata": {
        "id": "5LcuhePsgM1w"
      },
      "execution_count": null,
      "outputs": []
    },
    {
      "cell_type": "markdown",
      "source": [
        "###  "
      ],
      "metadata": {
        "id": "uoKssbJRv2Xu"
      }
    },
    {
      "cell_type": "markdown",
      "source": [
        "4.1 จากการวิจัยพบว่า 10% ของผู้สูบบุหรี่มากกว่า 2 มวนต่อวันจะพบความผิดปกติของปอด หากทำการสุ่มตัวอย่างผู้ที่สูบบุหรี่มากกว่า 2 มวนต่อวันจำนวน 10 คน จงหาความน่าจะเป็นของกรณีดังต่อไปนี้  \n",
        "- พบผู้ที่มีความผิดปกติของปอด 3 คน  "
      ],
      "metadata": {
        "id": "ag3TNOoapF2I"
      }
    },
    {
      "cell_type": "code",
      "source": [
        "#แสดงวิธีทำ\n",
        "\n",
        "n = 10  # จำนวนผู้สุ่มตัวอย่าง\n",
        "p = 0.1  # ความน่าจะเป็นของความผิดปกติในแต่ละคน\n",
        "\n",
        "k = 3\n",
        "prob_3 = binom.pmf(k, n, p)\n",
        "print(f\"ความน่าจะเป็นที่จะพบผู้ที่มีความผิดปกติของปอด 3 คน: {prob_3:.4f}\")"
      ],
      "metadata": {
        "id": "eGMlvK2UXrtE"
      },
      "execution_count": null,
      "outputs": []
    },
    {
      "cell_type": "markdown",
      "source": [
        "- ไม่มีผู้ที่ปอดมีความผิดปกติเลย"
      ],
      "metadata": {
        "id": "SOtKXJZ0Yhby"
      }
    },
    {
      "cell_type": "code",
      "source": [
        "#แสดงวิธีทำ\n",
        "k = 0\n",
        "prob_0 = binom.pmf(k, n, p)\n",
        "print(f\"ความน่าจะเป็นที่จะไม่มีผู้ที่ปอดมีความผิดปกติเลย: {prob_0:.4f}\")"
      ],
      "metadata": {
        "id": "-h3uR0QVYlFA"
      },
      "execution_count": null,
      "outputs": []
    },
    {
      "cell_type": "markdown",
      "source": [
        "- พบผู้ที่มีความผิดปกติของปอดอย่างน้อย 1 คน"
      ],
      "metadata": {
        "id": "gvjrsGthYycb"
      }
    },
    {
      "cell_type": "code",
      "source": [
        "#แสดงวิธีทำ\n",
        "prob_at_least_1 = 1 - prob_0\n",
        "print(f\"ความน่าจะเป็นที่จะพบผู้ที่มีความผิดปกติของปอดอย่างน้อย 1 คน: {prob_at_least_1:.4f}\")"
      ],
      "metadata": {
        "id": "NXgJ3SXgYmIC"
      },
      "execution_count": null,
      "outputs": []
    },
    {
      "cell_type": "markdown",
      "source": [
        "###  "
      ],
      "metadata": {
        "id": "sbZ2sthm9YOB"
      }
    },
    {
      "cell_type": "markdown",
      "source": [
        "4.2 ในพื้นที่สัมปทานเหมืองแร่ทองคำแห่งหนี่ง พบว่าในการออกพื้นที่สำรวจจะมีโอกาสพบสายแร่ทองคำ 15% หากบริษัท A ได้กำหนดพื้นที่เพื่อทำการสำรวจทั้งหมด 12 จุด จงหาความน่าจะเป็นของเหตุการณ์ต่อไปนี้\n",
        "- พบสายแร่ทองคำทั้ง 12 จุด    "
      ],
      "metadata": {
        "id": "t7i3BrqK9YOB"
      }
    },
    {
      "cell_type": "code",
      "source": [
        "#แสดงวิธีทำ\n",
        "\n",
        "n = 12  # จำนวนจุดที่สำรวจ\n",
        "p = 0.15  # ความน่าจะเป็นที่จะพบสายแร่ทองคำในแต่ละจุด\n",
        "\n",
        "# 1. พบสายแร่ทองคำทั้ง 12 จุด\n",
        "k = 12\n",
        "prob_12 = binom.pmf(k, n, p)\n",
        "print(f\"ความน่าจะเป็นที่จะพบสายแร่ทองคำทั้ง 12 จุด: {prob_12:.6f}\")"
      ],
      "metadata": {
        "id": "iqE8-wJaYvtI"
      },
      "execution_count": null,
      "outputs": []
    },
    {
      "cell_type": "markdown",
      "source": [
        "- ไม่พบสายแร่ทองคำทั้ง 12 จุด"
      ],
      "metadata": {
        "id": "H4G_eeDQ9TSd"
      }
    },
    {
      "cell_type": "code",
      "source": [
        "#แสดงวิธีทำ\n",
        "\n",
        "# 2. ไม่พบสายแร่ทองคำทั้ง 12 จุด\n",
        "k = 0\n",
        "prob_0 = binom.pmf(k, n, p)\n",
        "print(f\"ความน่าจะเป็นที่จะไม่พบสายแร่ทองคำทั้ง 12 จุด: {prob_0:.6f}\")"
      ],
      "metadata": {
        "id": "QZX4Vti1Yw3j"
      },
      "execution_count": null,
      "outputs": []
    },
    {
      "cell_type": "markdown",
      "source": [
        "- พบสายแร่ทองคำ 1 จุดเท่านั้น"
      ],
      "metadata": {
        "id": "hcYW6v-qAJDw"
      }
    },
    {
      "cell_type": "code",
      "source": [
        "#แสดงวิธีทำ\n",
        "# 3. พบสายแร่ทองคำ 1 จุดเท่านั้น\n",
        "k = 1\n",
        "prob_1 = binom.pmf(k, n, p)\n",
        "print(f\"ความน่าจะเป็นที่จะพบสายแร่ทองคำ 1 จุดเท่านั้น: {prob_1:.6f}\")"
      ],
      "metadata": {
        "id": "hSdEoTSqYyjh"
      },
      "execution_count": null,
      "outputs": []
    },
    {
      "cell_type": "markdown",
      "source": [
        "- พบสายแร่ทองคำอย่างน้อย 3 จุด"
      ],
      "metadata": {
        "id": "tjBxzS5IAezo"
      }
    },
    {
      "cell_type": "code",
      "source": [
        "#แสดงวิธีทำ\n",
        "# 4. พบสายแร่ทองคำอย่างน้อย 3 จุด\n",
        "prob_at_least_3 = 1 - sum(binom.pmf(k, n, p) for k in range(3))\n",
        "print(f\"ความน่าจะเป็นที่จะพบสายแร่ทองคำอย่างน้อย 3 จุด: {prob_at_least_3:.6f}\")"
      ],
      "metadata": {
        "id": "qDwjL7utYzeA"
      },
      "execution_count": null,
      "outputs": []
    },
    {
      "cell_type": "markdown",
      "source": [
        "###  "
      ],
      "metadata": {
        "id": "yif8FzhRBNSq"
      }
    },
    {
      "cell_type": "markdown",
      "source": [
        "4.3 จากการเก็บข้อมูลการเล่นเกมส์ออนไลน์เกมส์หนึ่งพบว่า ผู้เล่นที่มีเลเวล 50 ขึ้นไป 10 คน จะมีผู้เล่นที่ซื้อแพ็กเกจ VIP จำนวน 3 คนโดยประมาณ หากสุ่มตัวอย่างผู้เล่นที่มีเลเวล 50 ขึ้นไปจำนวน 15 คน จงหาค่าความน่าจะเป็นของเหตุการณ์ต่อไปนี้  \n",
        "  \n",
        "- มีผู้เล่นอย่างน้อย 1 คนซื้อแพ็กเกจ VIP    "
      ],
      "metadata": {
        "id": "FgWhB3I9BNSq"
      }
    },
    {
      "cell_type": "code",
      "source": [
        "#แสดงวิธีทำ\n",
        "n = 15  # จำนวนผู้เล่น\n",
        "p = 0.3  # ความน่าจะเป็นที่ผู้เล่นซื้อแพ็กเกจ VIP\n",
        "\n",
        "# 1. มีผู้เล่นอย่างน้อย 1 คนซื้อแพ็กเกจ VIP\n",
        "prob_at_least_1 = 1 - binom.pmf(0, n, p)\n",
        "print(f\"ความน่าจะเป็นที่จะมีผู้เล่นอย่างน้อย 1 คนซื้อแพ็กเกจ VIP: {prob_at_least_1:.4f}\")\n"
      ],
      "metadata": {
        "id": "RqvCLlbzY1lq"
      },
      "execution_count": null,
      "outputs": []
    },
    {
      "cell_type": "markdown",
      "source": [
        "- ไม่มีผู้เล่นซื้อแพ็กเกจ VIP เลย"
      ],
      "metadata": {
        "id": "WhCBSP4mGDDk"
      }
    },
    {
      "cell_type": "code",
      "source": [
        "#แสดงวิธีทำ\n",
        "# 2. ไม่มีผู้เล่นซื้อแพ็กเกจ VIP เลย\n",
        "prob_0 = binom.pmf(0, n, p)\n",
        "print(f\"ความน่าจะเป็นที่จะไม่มีผู้เล่นซื้อแพ็กเกจ VIP เลย: {prob_0:.4f}\")"
      ],
      "metadata": {
        "id": "w6t6uwHrY4Dv"
      },
      "execution_count": null,
      "outputs": []
    },
    {
      "cell_type": "markdown",
      "source": [
        "- มีผู้เล่นน้อยกว่า 4 คนซื้อแพ็กเกจ VIP"
      ],
      "metadata": {
        "id": "KDo2aR-0GewE"
      }
    },
    {
      "cell_type": "code",
      "source": [
        "#แสดงวิธีทำ\n",
        "# 3. มีผู้เล่นน้อยกว่า 4 คนซื้อแพ็กเกจ VIP\n",
        "prob_less_than_4 = sum(binom.pmf(k, n, p) for k in range(4))\n",
        "print(f\"ความน่าจะเป็นที่จะมีผู้เล่นน้อยกว่า 4 คนซื้อแพ็กเกจ VIP: {prob_less_than_4:.4f}\")"
      ],
      "metadata": {
        "id": "uOJJMG3MY4-w"
      },
      "execution_count": null,
      "outputs": []
    },
    {
      "cell_type": "markdown",
      "source": [
        "###  "
      ],
      "metadata": {
        "id": "nwSlXUPSHkQL"
      }
    },
    {
      "cell_type": "markdown",
      "source": [
        "4.4 จำนวนอุบัติเหตุอันเนื่องมาจากการจราจรที่สี่แยกแห่งหนึ่งโดยเฉลี่ยมี 3 รายต่อสัปดาห์ จงหาความ\n",
        "น่าจะเป็นที่จะมีอุบัติเหตุ 5 รายที่แยกแห่งนี้ในสัปดาห์หนึ่ง        "
      ],
      "metadata": {
        "id": "v04rtFN2HkQL"
      }
    },
    {
      "cell_type": "code",
      "source": [
        "#แสดงวิธีทำ\n",
        "lam = 3  # ค่าเฉลี่ยการเกิดเหตุการณ์ต่อสัปดาห์\n",
        "k = 5  # จำนวนครั้งที่ต้องการคำนวณ\n",
        "\n",
        "# ความน่าจะเป็นที่จะเกิดอุบัติเหตุ 5 ครั้ง\n",
        "prob_5 = poisson.pmf(k, lam)\n",
        "print(f\"ความน่าจะเป็นที่จะเกิดอุบัติเหตุ 5 ครั้งในสัปดาห์หนึ่ง: {prob_5:.4f}\")"
      ],
      "metadata": {
        "id": "5RsjQd4AY_TX"
      },
      "execution_count": null,
      "outputs": []
    },
    {
      "cell_type": "markdown",
      "source": [
        "###  "
      ],
      "metadata": {
        "id": "LeBrVUJUKdo9"
      }
    },
    {
      "cell_type": "markdown",
      "source": [
        "4.5 จากการเก็บข้อมูลพบว่า server ของทางภาควิชาฯ จะถูกโจมตีจากผู้ไม่หวังดีโดยเฉลี่ย 6 ครั้งใน 1 วันจงหาความน่าจะเป็นที่ใน 1 วัน server ของทางภาควิชาฯ จะถูกโจมตี 6 - 8 ครั้ง        "
      ],
      "metadata": {
        "id": "LoAlPE5XKdo9"
      }
    },
    {
      "cell_type": "code",
      "source": [
        "#แสดงวิธีทำ\n",
        "lam = 6  # ค่าเฉลี่ยการโจมตีต่อวัน\n",
        "\n",
        "# ความน่าจะเป็นที่จะถูกโจมตี 6, 7, หรือ 8 ครั้ง\n",
        "prob_6 = poisson.pmf(6, lam)\n",
        "prob_7 = poisson.pmf(7, lam)\n",
        "prob_8 = poisson.pmf(8, lam)\n",
        "\n",
        "# รวมความน่าจะเป็น\n",
        "prob_total = prob_6 + prob_7 + prob_8\n",
        "print(f\"ความน่าจะเป็นที่จะถูกโจมตี 6-8 ครั้งในหนึ่งวัน: {prob_total:.4f}\")"
      ],
      "metadata": {
        "id": "TeGeHVgMZDfr"
      },
      "execution_count": null,
      "outputs": []
    },
    {
      "cell_type": "markdown",
      "source": [
        "###  "
      ],
      "metadata": {
        "id": "r_ZjNP1PL2uu"
      }
    },
    {
      "cell_type": "markdown",
      "source": [
        "4.6 จากการเก็บข้อมูลอายุของเด็กที่ติดเกมส์มือถือพบว่ามีการแจกแจงของอายุเป็นแบบปกติ และมีค่าเฉลี่ยเท่ากับ 11.5 ปี\n",
        "และค่าเบี่ยงเบนมาตรฐานเท่ากับ 3 ปี   \n",
        "หากพบเด็กคนหนึ่งติดเกมส์ จงหาความน่าจะเป็นที่เด็กผู้นี้  \n",
        "- มีอายุอยู่ระหว่าง 8.5 และ 14.5 ปี  "
      ],
      "metadata": {
        "id": "STASxmjEL2uu"
      }
    },
    {
      "cell_type": "code",
      "source": [
        "#แสดงวิธีทำ\n",
        "mu_6 = 11.5  # ค่าเฉลี่ย\n",
        "sigma_6 = 3  # ค่าเบี่ยงเบนมาตรฐาน\n",
        "\n",
        "# 1. อายุระหว่าง 8.5 และ 14.5 ปี\n",
        "z1_6 = (8.5 - mu_6) / sigma_6\n",
        "z2_6 = (14.5 - mu_6) / sigma_6\n",
        "prob_6_1 = norm.cdf(z2_6) - norm.cdf(z1_6)\n",
        "print(f\"ความน่าจะเป็นที่เด็กมีอายุระหว่าง 8.5 และ 14.5 ปี: {prob_6_1:.4f}\")"
      ],
      "metadata": {
        "id": "rVbSeQ9-ZGf9"
      },
      "execution_count": null,
      "outputs": []
    },
    {
      "cell_type": "markdown",
      "source": [
        "- มีอายุต่ำกว่า 12 ปี"
      ],
      "metadata": {
        "id": "7S4XGGO5P4tI"
      }
    },
    {
      "cell_type": "code",
      "source": [
        "#แสดงวิธีทำ\n",
        "# 2. อายุต่ำกว่า 12 ปี\n",
        "z_6 = (12 - mu_6) / sigma_6\n",
        "prob_6_2 = norm.cdf(z_6)\n",
        "print(f\"ความน่าจะเป็นที่เด็กมีอายุต่ำกว่า 12 ปี: {prob_6_2:.4f}\")\n"
      ],
      "metadata": {
        "id": "AWfLt0NZZHqY"
      },
      "execution_count": null,
      "outputs": []
    },
    {
      "cell_type": "markdown",
      "source": [
        "- มีอายุเกินกว่า 10 ปีขึ้นไป"
      ],
      "metadata": {
        "id": "2g0qLDviQY8b"
      }
    },
    {
      "cell_type": "code",
      "source": [
        "#แสดงวิธีทำ\n",
        "# 3. อายุเกินกว่า 10 ปี\n",
        "z_6 = (10 - mu_6) / sigma_6\n",
        "prob_6_3 = 1 - norm.cdf(z_6)\n",
        "print(f\"ความน่าจะเป็นที่เด็กมีอายุเกินกว่า 10 ปี: {prob_6_3:.4f}\")"
      ],
      "metadata": {
        "id": "U1H1mx2ZZI6I"
      },
      "execution_count": null,
      "outputs": []
    },
    {
      "cell_type": "markdown",
      "source": [
        "###  "
      ],
      "metadata": {
        "id": "floehrzxQp4u"
      }
    },
    {
      "cell_type": "markdown",
      "source": [
        "4.7 ถ้าระดับค่าคลอเรสเตอรอลในประชากรกลุ่มหนึ่งมีการแจกแจงแบบปกติ มีค่าเฉลี่ยเท่ากับ 200 mg/\n",
        "100 ml และค่าเบี่ยงเบนมาตรฐานเท่ากับ 20 mg/100 ml จงหาความน่าจะเป็นที่จะเลือกได้บุคคลหนึ่ง\n",
        "จากประชากรกลุ่มนี้ แล้วพบว่าระดับคอเรสเตอรอลมีค่า  \n",
        "- ระหว่าง 180 และ 200 mg/100 ml  "
      ],
      "metadata": {
        "id": "xMohIA7jQp4u"
      }
    },
    {
      "cell_type": "code",
      "source": [
        "#แสดงวิธีทำ\n",
        "mu_7 = 200  # ค่าเฉลี่ย\n",
        "sigma_7 = 20  # ค่าเบี่ยงเบนมาตรฐาน\n",
        "\n",
        "# 1. คอเลสเตอรอลระหว่าง 180 และ 200\n",
        "z1_7 = (180 - mu_7) / sigma_7\n",
        "z2_7 = (200 - mu_7) / sigma_7\n",
        "prob_7_1 = norm.cdf(z2_7) - norm.cdf(z1_7)\n",
        "print(f\"ความน่าจะเป็นที่คอเลสเตอรอลระหว่าง 180 และ 200: {prob_7_1:.4f}\")"
      ],
      "metadata": {
        "id": "-A17QfPuZM77"
      },
      "execution_count": null,
      "outputs": []
    },
    {
      "cell_type": "markdown",
      "source": [
        "- เกินกว่า 225 mg/100 ml"
      ],
      "metadata": {
        "id": "VrDTcamkTDlO"
      }
    },
    {
      "cell_type": "code",
      "source": [
        "#แสดงวิธีทำ\n",
        "# 2. คอเลสเตอรอลเกิน 225\n",
        "z_7 = (225 - mu_7) / sigma_7\n",
        "prob_7_2 = 1 - norm.cdf(z_7)\n",
        "print(f\"ความน่าจะเป็นที่คอเลสเตอรอลเกิน 225: {prob_7_2:.4f}\")\n"
      ],
      "metadata": {
        "id": "vKuF704LZOX_"
      },
      "execution_count": null,
      "outputs": []
    },
    {
      "cell_type": "markdown",
      "source": [
        "- ระหว่าง 190 และ 210 mg/100 ml"
      ],
      "metadata": {
        "id": "wnACIhNsTEdT"
      }
    },
    {
      "cell_type": "code",
      "source": [
        "#แสดงวิธีทำ\n",
        "# 3. คอเลสเตอรอลระหว่าง 190 และ 210\n",
        "z1_7 = (190 - mu_7) / sigma_7\n",
        "z2_7 = (210 - mu_7) / sigma_7\n",
        "prob_7_3 = norm.cdf(z2_7) - norm.cdf(z1_7)\n",
        "print(f\"ความน่าจะเป็นที่คอเลสเตอรอลระหว่าง 190 และ 210: {prob_7_3:.4f}\")"
      ],
      "metadata": {
        "id": "8N-XVkZTZP9S"
      },
      "execution_count": null,
      "outputs": []
    },
    {
      "cell_type": "markdown",
      "source": [
        "- น้อยกว่า 150 mg/100 ml"
      ],
      "metadata": {
        "id": "00fXCreGTFAM"
      }
    },
    {
      "cell_type": "code",
      "source": [
        "#แสดงวิธีทำ\n",
        "# 4. คอเลสเตอรอลน้อยกว่า 150\n",
        "z_7 = (150 - mu_7) / sigma_7\n",
        "prob_7_4 = norm.cdf(z_7)\n",
        "print(f\"ความน่าจะเป็นที่คอเลสเตอรอลน้อยกว่า 150: {prob_7_4:.4f}\")"
      ],
      "metadata": {
        "id": "mZZ7T_QdZRQb"
      },
      "execution_count": null,
      "outputs": []
    },
    {
      "cell_type": "markdown",
      "source": [
        "###  "
      ],
      "metadata": {
        "id": "Mu4lT_CApF2I"
      }
    }
  ]
}