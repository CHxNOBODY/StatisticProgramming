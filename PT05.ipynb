{
 "cells": [
  {
   "cell_type": "markdown",
   "metadata": {
    "id": "U3ArbMi8JHGD"
   },
   "source": [
    "# แบบฝึกหัด 5"
   ]
  },
  {
   "cell_type": "markdown",
   "metadata": {
    "id": "t9RQYuu-JUwP"
   },
   "source": [
    "---"
   ]
  },
  {
   "cell_type": "code",
   "execution_count": 3,
   "metadata": {
    "id": "5LcuhePsgM1w"
   },
   "outputs": [],
   "source": [
    "import numpy as np\n",
    "from scipy import stats\n",
    "from statsmodels.stats.weightstats import ztest"
   ]
  },
  {
   "cell_type": "markdown",
   "metadata": {
    "id": "ag3TNOoapF2I"
   },
   "source": [
    "5.1 จากการเก็บข้อมูลของบูธร้านค้าร้านหนึ่งในงานเกษตรแฟร์โดยสุ่มตัวอย่างลูกค้ามาทั้งหมด 200 คน พบว่ามีอายุเฉลี่ย 42.8 ปี ส่วนเบี่ยงเบนมาตราฐาน 6.89 ปี ผู้ประกอบการร้านแห่งนี้จึงตั้งสมมุติฐานว่า ลูกค้าของทางร้านมีอายุเฉลี่ยสูงกว่า 40 ปี ที่ระดับนัยสำคัญ 0.01 สมมุติฐานนี้ถูกต้องหรือไม่ หากกำหนดให้การแจกแจงของอายุเป็นแบบปกติ  "
   ]
  },
  {
   "cell_type": "markdown",
   "metadata": {},
   "source": [
    "* H<sub>0</sub>: ลูกค้าของทางร้านมีอายุเฉลี่ยน้อยกว่าเท่ากับ 40 ปี\n",
    "* H<sub>1</sub>: ลูกค้าของทางร้านมีอายุเฉลี่ยสูงกว่า 40 ปี\n",
    "* ⍺ = 0.01\n",
    "* n ≥ 200"
   ]
  },
  {
   "cell_type": "code",
   "execution_count": 4,
   "metadata": {
    "id": "eGMlvK2UXrtE"
   },
   "outputs": [
    {
     "name": "stdout",
     "output_type": "stream",
     "text": [
      "Z_cal: 5.747166871762936\n",
      "Z_critical: 2.345232231110364\n",
      "p_value: 4.537557863298817e-09\n",
      "Z_cal > Z_critical\n"
     ]
    }
   ],
   "source": [
    "u = 40\n",
    "n = 200\n",
    "x_bar = 42.8\n",
    "std = 6.89\n",
    "Z_cal = (x_bar - u) / (std / np.sqrt(n))\n",
    "Z_critical = stats.t.isf(0.01, df=n - 1)\n",
    "p_val = stats.norm.sf(Z_cal)\n",
    "print(f\"Z_cal: {Z_cal}\\nZ_critical: {Z_critical}\\np_value: {p_val}\")\n",
    "print(\"Z_cal > Z_critical\")"
   ]
  },
  {
   "cell_type": "markdown",
   "metadata": {},
   "source": [
    "* #### สมมุติฐานที่ว่า ลูกค้าของทางร้านมีอายุเฉลี่ยสูงกว่า 40 ปี (H<sub>1</sub>) ถูกต้อง"
   ]
  },
  {
   "cell_type": "markdown",
   "metadata": {
    "id": "IzcoD0hL8AQB"
   },
   "source": [
    "###   "
   ]
  },
  {
   "cell_type": "markdown",
   "metadata": {
    "id": "QIrBZzg28EEi"
   },
   "source": [
    "5.2 สุ่มตัวอย่างผลิตภัณฑ์ซักล้างยี่ห้อหนึ่งมาจำนวน 8 ชิ้นเพื่อวัดปริมาณสารพิษ พบว่าได้ปริมาณดังนี้ (10<sup>6</sup>ppm) 15, 8, 10, 13, 6, 16, 11, 18 จงทดสอบว่าปริมาณสารพิษของผลิตภัณฑ์ซักล้างยี่ห้อนี้มากกว่าหรือเท่ากับ (≥) 18x10<sup>6</sup>ppm ที่ระดับนัยสำคัญ 0.05 หรือไม่ หากกำหนดให้ปริมาณสารพิษชนิดนี้มีการแจกแจงแบบปกติ      "
   ]
  },
  {
   "cell_type": "markdown",
   "metadata": {},
   "source": [
    "* H<sub>0</sub> : ปริมาณสารพิษของผลิตภัณฑ์ซักล้างยี่ห้อนี้มากกว่าหรือเท่ากับ (≥) 18x10<sup>6</sup>ppm\n",
    "* H<sub>1</sub> : ปริมาณสารพิษของผลิตภัณฑ์ซักล้างยี่ห้อนี้น้อยกว่ากว่า (<) 18x10<sup>6</sup>ppm\n",
    "* ⍺ = 0.05\n",
    "* n ≥ 8"
   ]
  },
  {
   "cell_type": "code",
   "execution_count": 5,
   "metadata": {
    "id": "z7-tVncsuMB2"
   },
   "outputs": [
    {
     "name": "stdout",
     "output_type": "stream",
     "text": [
      "t_cal: -4.032335130364934\n",
      "t_critical: -1.8945786050613054\n",
      "p_value: 2.7612678485905902e-05\n",
      "p_val < 0.05\n"
     ]
    }
   ],
   "source": [
    "x = [15, 8, 10, 13, 6, 16, 11, 18]\n",
    "u = 18\n",
    "t_cal, p_val = ztest(x1=x, value=u, alternative=\"smaller\")\n",
    "t_critical = stats.t.ppf(0.05, df=7)\n",
    "print(f\"t_cal: {t_cal}\\nt_critical: {t_critical}\\np_value: {p_val}\")\n",
    "print(\"p_val < 0.05\")"
   ]
  },
  {
   "cell_type": "markdown",
   "metadata": {},
   "source": [
    "* #### สมมุติฐานที่ว่า ปริมาณสารพิษของผลิตภัณฑ์ซักล้างยี่ห้อนี้มากกว่าหรือเท่ากับ (≥) 18x10<sup>6</sup>ppm (H<sub>0</sub>) ไม่ถูกต้อง"
   ]
  },
  {
   "cell_type": "markdown",
   "metadata": {
    "id": "NfuOc0DEX-mV"
   },
   "source": [
    "###   "
   ]
  },
  {
   "cell_type": "markdown",
   "metadata": {
    "id": "LRa6VC8dX-mc"
   },
   "source": [
    "5.3 ทำการ ping 158.108.216.5 จำนวน 10 ครั้ง ได้ระยะเวลาในหน่วย ms (milliseconds) ดังนี้ 28.2, 26.5, 30.7, 24.1, 25.3, 29.2, 21.6, 26.7, 23.4, 27.3 จงทดสอบว่าระยะเวลาที่ใช้ในการ ping โดยเฉลี่ยมีค่าเท่ากับ 26 ms หรือไม่ที่ระดับนัยสำคัญ 0.05 หากทราบมาว่าระยะเวลาที่ใช้ในการ ping มีการแจกแจงแบบปกติ"
   ]
  },
  {
   "cell_type": "markdown",
   "metadata": {},
   "source": [
    "* H<sub>0</sub> : µ = 26 ms\n",
    "* H<sub>1</sub> : µ ≠ 26 ms\n",
    "* ⍺ = 0.05\n",
    "* n ≥ 10"
   ]
  },
  {
   "cell_type": "code",
   "execution_count": 6,
   "metadata": {
    "id": "4SyUkxgouNU4"
   },
   "outputs": [
    {
     "name": "stdout",
     "output_type": "stream",
     "text": [
      "t_cal: 0.3428229400069507\n",
      "t_critical: -2.2621571628540997, 2.2621571628540997\n",
      "p_value: 0.7317316669977609\n",
      "p_val > 0.05\n"
     ]
    }
   ],
   "source": [
    "x = [28.2, 26.5, 30.7, 24.1, 25.3, 29.2, 21.6, 26.7, 23.4, 27.3]\n",
    "t_cal, p_val = ztest(x1=x, value=26, alternative='two-sided')\n",
    "t_critical_1 = stats.t.ppf(0.05 / 2, df=9)\n",
    "t_critical_2 = stats.t.isf(0.05 / 2, df=9)\n",
    "print(f\"t_cal: {t_cal}\\nt_critical: {t_critical_1}, {t_critical_2}\\np_value: {p_val}\")\n",
    "print(\"p_val > 0.05\")"
   ]
  },
  {
   "cell_type": "markdown",
   "metadata": {},
   "source": [
    "* #### สมมุติฐานที่ว่า ค่าเฉลี่ยเท่ากับ 26 ms (H<sub>0</sub>) ถูกต้อง"
   ]
  },
  {
   "cell_type": "markdown",
   "metadata": {
    "id": "2L30gP1ae_Du"
   },
   "source": [
    "###   "
   ]
  },
  {
   "cell_type": "markdown",
   "metadata": {
    "id": "jb1NBlWke_D2"
   },
   "source": [
    "5.4 ห้องปฏิบัติการ 2 แห่ง สุ่มตรวจสอบปริมาณนิโคตินในบุหรี่ยี่ห้อหนึ่งด้ผลการวิเคราะห์ปริมาณนิโคติน (มิลลิกรัม) ดังนี้  \n",
    "ห้องปฏิบัติการ1: 56, 37, 61, 56, 65, 41, 63, 50, 42   \n",
    "ห้องปฏิบัติการ2: 46, 25, 46, 64, 34, 56   \n",
    "จงทดสอบสมมติฐานว่าปริมาณนิโคตินที่วิเคราะห์ได้โดยห้องปฏิบัติการสองแห่งนี้ไม่แตกต่างกัน\n",
    "ที่ระดับนัยสำคัญ 0.10 หากกำหนดให้ปริมาณนิโคตินในบุหรี่ที่วิเคราะห์ได้โดยห้องปฏิบัติการทั้งสองมีการ\n",
    "แจกแจงแบบปกติที่มีค่าความแปรปรวนเท่ากัน  "
   ]
  },
  {
   "cell_type": "markdown",
   "metadata": {},
   "source": [
    "* H<sub>0</sub> : µ<sub>1</sub> - µ<sub>2</sub> = µ<sub>0</sub>\n",
    "* H<sub>1</sub> : µ<sub>1</sub> - µ<sub>2</sub> ≠ µ<sub>0</sub>\n",
    "* ⍺ = 0.10\n",
    "* n1 = 9\n",
    "* n2 = 6"
   ]
  },
  {
   "cell_type": "code",
   "execution_count": 7,
   "metadata": {
    "id": "r4oVfpk9uTVG"
   },
   "outputs": [
    {
     "name": "stdout",
     "output_type": "stream",
     "text": [
      "t_cal: 1.1377678816988284\n",
      "t_critical: -1.7709333959867992, 1.7709333959867992\n",
      "p_value: 0.2757530487532558\n",
      "p_val > 0.10\n"
     ]
    }
   ],
   "source": [
    "x_1 = [56, 37, 61, 56, 65, 41, 63, 50, 42]\n",
    "x_2 = [46, 25, 46, 64, 34, 56]\n",
    "n_1 = len(x_1)\n",
    "n_2 = len(x_2)\n",
    "x_bar_1 = np.mean(x_1)\n",
    "x_bar_2 = np.mean(x_2)\n",
    "s2_1 = np.var(x_1, ddof=1)\n",
    "s2_2 = np.var(x_2, ddof=1)\n",
    "df = n_1 + n_2 - 2\n",
    "s2p = ((n_1 - 1) * s2_1 + (n_2 - 1) * s2_2) / df\n",
    "t_cal = ((x_bar_1 - x_bar_2) - 0) / np.sqrt(s2p * (1/n_1 + 1/n_2))\n",
    "t_critical_1 = stats.t.ppf(0.1 / 2, df=df)\n",
    "t_critical_2 = stats.t.isf(0.1 / 2, df=df)\n",
    "p_val = 2 * stats.t.sf(abs(t_cal), df=df)\n",
    "print(f\"t_cal: {t_cal}\\nt_critical: {t_critical_1}, {t_critical_2}\\np_value: {p_val}\")\n",
    "print(\"p_val > 0.10\")"
   ]
  },
  {
   "cell_type": "code",
   "execution_count": 8,
   "metadata": {},
   "outputs": [
    {
     "name": "stdout",
     "output_type": "stream",
     "text": [
      "t_cal: 1.1377678816988284\n",
      "t_critical: -1.7709333959867992, 1.7709333959867992\n",
      "p_value: 0.2757530487532558\n"
     ]
    }
   ],
   "source": [
    "t_cal, p_val = stats.ttest_ind(a=x_1, b=x_2, alternative=\"two-sided\", equal_var=True)\n",
    "print(f\"t_cal: {t_cal}\\nt_critical: {t_critical_1}, {t_critical_2}\\np_value: {p_val}\")"
   ]
  },
  {
   "cell_type": "markdown",
   "metadata": {},
   "source": [
    "* #### สมมติฐานว่าปริมาณนิโคตินที่วิเคราะห์ได้โดยห้องปฏิบัติการสองแห่งนี้ไม่แตกต่างกัน (H<sub>0</sub>) ถูกต้อง"
   ]
  },
  {
   "cell_type": "markdown",
   "metadata": {
    "id": "HV7pSFLVjP8J"
   },
   "source": [
    "###   "
   ]
  },
  {
   "cell_type": "markdown",
   "metadata": {
    "id": "9IshON3wjP8J"
   },
   "source": [
    "5.5 เครื่องใช้พลาสติกชนิดหนึ่ง ผลิตโดยกระบวนการผลิตแตกต่างกัน 2 วิธี คือ A และ B ต้องการตรวจสอบความ\n",
    "เหนียวของพลาสติกที่ผลิตได้โดยทั้งสองกระบวนการนี้ว่าแตกต่างกันหรือไม่ จึงสุ่มตัวอย่าง\n",
    "ผลิตภัณฑ์จากกระบวนการผลิต A มา 30 ชิ้น ทดสอบและคำนวณค่าความเหนียวเฉลี่ยได้เป็น\n",
    "28.3 ส่วนเบี่ยงเบนมาตรฐาน 3.3 เมื่อสุ่มผลิตภัณฑ์จากกระบวนการผลิต B 40 ชิ้น คำนวณค่าความเหนียวเฉลี่ยได้เป็น 26.7 ส่วนเบี่ยงเบนมาตรฐานเป็น 4.9 หากการทดสอบโดยใช้ระดับนัยสำคัญ 0.05  "
   ]
  },
  {
   "cell_type": "markdown",
   "metadata": {},
   "source": [
    "* H<sub>0</sub> : µ<sub>1</sub> - µ<sub>2</sub> = µ<sub>0</sub>\n",
    "* H<sub>1</sub> : µ<sub>1</sub> - µ<sub>2</sub> ≠ µ<sub>0</sub>\n",
    "* xbar1 = 28.3\n",
    "* s1 = 3.3\n",
    "* n1 = 30\n",
    "* xbar2 = 26.7\n",
    "* s2 = 4.9\n",
    "* n2 = 40\n",
    "* ⍺ = 0.05"
   ]
  },
  {
   "cell_type": "code",
   "execution_count": 10,
   "metadata": {
    "id": "HA_rpEPNuUdd"
   },
   "outputs": [
    {
     "name": "stdout",
     "output_type": "stream",
     "text": [
      "t_cal: 1.5437578973008748\n",
      "t_critical: 0.509972518195238, 1.9599639845400545\n",
      "p_value: 0.1226469944687126\n",
      "p_val > 0.05\n"
     ]
    }
   ],
   "source": [
    "x_bar_1 = 28.3\n",
    "s2_1 = 3.3 ** 2\n",
    "n_1 = 30\n",
    "x_bar_2 = 26.7\n",
    "s2_2 = 4.9 ** 2\n",
    "n_2 = 40\n",
    "df = n_1 + n_2 - 2\n",
    "s2p = ((n_1 - 1) * s2_1 + (n_2 - 1) * s2_2) / df\n",
    "t_cal = ((x_bar_1 - x_bar_2) - 0) / np.sqrt(s2p * (1/n_1 + 1/n_2))\n",
    "t_critical_1 = stats.norm.cdf(0.05 / 2)\n",
    "t_critical_2 = stats.norm.isf(0.05 / 2)\n",
    "p_val = 2 * stats.norm.sf(abs(t_cal))\n",
    "print(f\"t_cal: {t_cal}\\nt_critical: {t_critical_1}, {t_critical_2}\\np_value: {p_val}\")\n",
    "print(\"p_val > 0.05\")"
   ]
  },
  {
   "cell_type": "code",
   "execution_count": 96,
   "metadata": {},
   "outputs": [
    {
     "name": "stdout",
     "output_type": "stream",
     "text": [
      "t_cal: 1.5437578973008748\n",
      "t_critical: -1.995468931429844, 1.995468931429844\n",
      "p_value: 0.12728834341239206\n",
      "p_val > 0.05\n"
     ]
    }
   ],
   "source": [
    "df = n_1 + n_2 - 2\n",
    "s2p = ((n_1 - 1) * s2_1 + (n_2 - 1) * s2_2) / df\n",
    "t_cal = ((x_bar_1 - x_bar_2) - 0) / np.sqrt(s2p * (1/n_1 + 1/n_2))\n",
    "t_critical_1 = stats.t.ppf(0.05 / 2, df=df)\n",
    "t_critical_2 = stats.t.isf(0.05 / 2, df=df)\n",
    "p_val = 2 * stats.t.sf(abs(t_cal), df=df)\n",
    "print(f\"t_cal: {t_cal}\\nt_critical: {t_critical_1}, {t_critical_2}\\np_value: {p_val}\")\n",
    "print(\"p_val > 0.05\")"
   ]
  },
  {
   "cell_type": "markdown",
   "metadata": {},
   "source": [
    "* #### สมมติฐานว่าทั้งสองกระบวนการนี้ว่าไม่แตกต่างกัน (H<sub>0</sub>) ถูกต้อง"
   ]
  }
 ],
 "metadata": {
  "colab": {
   "authorship_tag": "ABX9TyPRAOT6LtaW5SjkKlgaIzv1",
   "provenance": []
  },
  "kernelspec": {
   "display_name": "pstat13",
   "language": "python",
   "name": "python3"
  },
  "language_info": {
   "codemirror_mode": {
    "name": "ipython",
    "version": 3
   },
   "file_extension": ".py",
   "mimetype": "text/x-python",
   "name": "python",
   "nbconvert_exporter": "python",
   "pygments_lexer": "ipython3",
   "version": "3.13.0"
  }
 },
 "nbformat": 4,
 "nbformat_minor": 0
}
